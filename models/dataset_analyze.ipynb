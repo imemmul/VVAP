{
 "cells": [
  {
   "cell_type": "code",
   "execution_count": 7,
   "metadata": {},
   "outputs": [],
   "source": [
    "import pandas as pd"
   ]
  },
  {
   "cell_type": "code",
   "execution_count": 8,
   "metadata": {},
   "outputs": [],
   "source": [
    "csv_data = pd.read_csv(\"/home/emir/Desktop/dev/datasets/ETF_RGB_Videos/dataset.csv\")\n",
    "csv_data_test = pd.read_csv(\"/home/emir/Desktop/dev/datasets/ETF_RGB_Videos_Test/dataset.csv\")"
   ]
  },
  {
   "cell_type": "code",
   "execution_count": 12,
   "metadata": {},
   "outputs": [
    {
     "name": "stdout",
     "output_type": "stream",
     "text": [
      "[[0, 1, 0], [0, 1, 0], [0, 1, 0]]    4498\n",
      "[[0, 1, 0], [0, 1, 0], [1, 0, 0]]    1267\n",
      "[[0, 1, 0], [0, 1, 0], [0, 0, 1]]    1062\n",
      "[[1, 0, 0], [1, 0, 0], [1, 0, 0]]     621\n",
      "[[0, 0, 1], [0, 0, 1], [0, 0, 1]]     617\n",
      "[[1, 0, 0], [0, 1, 0], [1, 0, 0]]     565\n",
      "[[0, 0, 1], [0, 1, 0], [0, 0, 1]]     469\n",
      "[[1, 0, 0], [0, 1, 0], [0, 1, 0]]     458\n",
      "[[0, 0, 1], [0, 1, 0], [0, 1, 0]]     432\n",
      "[[0, 1, 0], [1, 0, 0], [0, 1, 0]]     339\n",
      "[[0, 1, 0], [0, 0, 1], [0, 1, 0]]     298\n",
      "[[0, 1, 0], [1, 0, 0], [1, 0, 0]]     197\n",
      "[[1, 0, 0], [1, 0, 0], [0, 1, 0]]     187\n",
      "[[0, 0, 1], [0, 0, 1], [0, 1, 0]]     166\n",
      "[[0, 1, 0], [0, 0, 1], [0, 0, 1]]     150\n",
      "[[0, 0, 1], [0, 1, 0], [1, 0, 0]]      56\n",
      "[[0, 1, 0], [0, 0, 1], [1, 0, 0]]      48\n",
      "[[1, 0, 0], [0, 1, 0], [0, 0, 1]]      47\n",
      "[[0, 1, 0], [1, 0, 0], [0, 0, 1]]      44\n",
      "[[1, 0, 0], [0, 0, 1], [0, 1, 0]]      36\n",
      "[[1, 0, 0], [1, 0, 0], [0, 0, 1]]      32\n",
      "[[0, 0, 1], [1, 0, 0], [0, 1, 0]]      29\n",
      "[[0, 0, 1], [1, 0, 0], [0, 0, 1]]      18\n",
      "[[0, 0, 1], [0, 0, 1], [1, 0, 0]]      17\n",
      "[[1, 0, 0], [0, 0, 1], [1, 0, 0]]      15\n",
      "[[1, 0, 0], [0, 0, 1], [0, 0, 1]]      13\n",
      "[[0, 0, 1], [1, 0, 0], [1, 0, 0]]       7\n",
      "Name: labels, dtype: int64\n"
     ]
    }
   ],
   "source": [
    "label_counts = csv_data['labels'].value_counts()\n",
    "\n",
    "print((label_counts)) # mostly buy ????"
   ]
  },
  {
   "cell_type": "code",
   "execution_count": null,
   "metadata": {},
   "outputs": [],
   "source": [
    "import numpy as np\n",
    "label_array = \n",
    "label_array = label_array.reshape(-1, 9)\n",
    "\n",
    "# Count frequencies for each label position\n",
    "label_frequencies = np.apply_along_axis(lambda x: np.bincount(x, minlength=2), axis=0, arr=label_array)\n",
    "\n",
    "print(\"Label Frequencies:\\n\", label_frequencies)"
   ]
  },
  {
   "cell_type": "code",
   "execution_count": null,
   "metadata": {},
   "outputs": [],
   "source": [
    "import numpy as np\n",
    "def calculate_class_weights(y):\n",
    "    class_weights = []\n",
    "    for i in range(y.shape[1]):  # For each label\n",
    "        positives = np.sum(y[:, i] == 1)\n",
    "        negatives = np.sum(y[:, i] == 0)\n",
    "        total = positives + negatives\n",
    "\n",
    "        weight_for_1 = negatives / total\n",
    "        weight_for_0 = positives / total\n",
    "\n",
    "        class_weights.append((weight_for_0, weight_for_1))\n",
    "    \n",
    "    return class_weights\n",
    "\n",
    "\n",
    "class_weights = calculate_class_weights(y)\n"
   ]
  },
  {
   "cell_type": "code",
   "execution_count": 7,
   "metadata": {},
   "outputs": [
    {
     "data": {
      "text/plain": [
       "2.7837772978161746"
      ]
     },
     "execution_count": 7,
     "metadata": {},
     "output_type": "execute_result"
    }
   ],
   "source": [
    "23200 / sum(label_counts)"
   ]
  },
  {
   "cell_type": "code",
   "execution_count": 5,
   "metadata": {},
   "outputs": [
    {
     "name": "stdout",
     "output_type": "stream",
     "text": [
      "1    5107\n",
      "0    1710\n",
      "2    1517\n",
      "Name: label, dtype: int64\n"
     ]
    }
   ],
   "source": [
    "label_counts = csv_data_test['label'].value_counts()\n",
    "\n",
    "print(label_counts) # mostly buy ???? again frequently more buy labels"
   ]
  },
  {
   "cell_type": "code",
   "execution_count": 6,
   "metadata": {},
   "outputs": [
    {
     "data": {
      "text/plain": [
       "0.6127909767218622"
      ]
     },
     "execution_count": 6,
     "metadata": {},
     "output_type": "execute_result"
    }
   ],
   "source": [
    "5107 / sum(label_counts) # if setting all labels 1 at least have 1 accuracy"
   ]
  },
  {
   "cell_type": "code",
   "execution_count": 1,
   "metadata": {},
   "outputs": [
    {
     "name": "stdout",
     "output_type": "stream",
     "text": [
      "[*********************100%%**********************]  1 of 1 completed\n"
     ]
    }
   ],
   "source": [
    "import yfinance as yf\n",
    "startDate = '2001-10-11'\n",
    "endDate = '2022-04-15'\n",
    "data = yf.download('XLF', start=startDate, end=endDate, )"
   ]
  },
  {
   "cell_type": "code",
   "execution_count": 5,
   "metadata": {},
   "outputs": [
    {
     "data": {
      "text/plain": [
       "[<matplotlib.lines.Line2D at 0x7fb6975f2b90>]"
      ]
     },
     "execution_count": 5,
     "metadata": {},
     "output_type": "execute_result"
    },
    {
     "data": {
      "image/png": "[encoded data removed]",
      "text/plain": [
       "<Figure size 640x480 with 1 Axes>"
      ]
     },
     "metadata": {},
     "output_type": "display_data"
    }
   ],
   "source": [
    "import matplotlib.pyplot as plt\n",
    "plt.plot(data['Adj Close'])"
   ]
  },
  {
   "cell_type": "code",
   "execution_count": 2,
   "metadata": {},
   "outputs": [],
   "source": [
    "import pandas as pd"
   ]
  },
  {
   "cell_type": "code",
   "execution_count": 3,
   "metadata": {},
   "outputs": [],
   "source": [
    "df = pd.read_csv(\"/home/emir/Desktop/dev/datasets/ETF_RGB_Videos/labels.csv\")"
   ]
  },
  {
   "cell_type": "code",
   "execution_count": 4,
   "metadata": {},
   "outputs": [],
   "source": [
    "import ast\n",
    "\n",
    "def parse_labels(label_str):\n",
    "    try:\n",
    "        return ast.literal_eval(label_str)\n",
    "    except ValueError:\n",
    "        return []  # or some default value like [0, 0, 0]\n",
    "\n",
    "label_array = df['labels'].apply(parse_labels).values"
   ]
  },
  {
   "cell_type": "code",
   "execution_count": 6,
   "metadata": {},
   "outputs": [
    {
     "data": {
      "text/plain": [
       "[[0, 1, 0], [0, 1, 0], [0, 0, 1]]"
      ]
     },
     "execution_count": 6,
     "metadata": {},
     "output_type": "execute_result"
    }
   ],
   "source": [
    "df.iloc[0][1]"
   ]
  },
  {
   "cell_type": "code",
   "execution_count": 16,
   "metadata": {},
   "outputs": [
    {
     "data": {
      "text/plain": [
       "3896.0"
      ]
     },
     "execution_count": 16,
     "metadata": {},
     "output_type": "execute_result"
    }
   ],
   "source": [
    "len(df) /3 "
   ]
  },
  {
   "cell_type": "code",
   "execution_count": null,
   "metadata": {},
   "outputs": [],
   "source": []
  }
 ],
 "metadata": {
  "kernelspec": {
   "display_name": "mlptorch",
   "language": "python",
   "name": "python3"
  },
  "language_info": {
   "codemirror_mode": {
    "name": "ipython",
    "version": 3
   },
   "file_extension": ".py",
   "mimetype": "text/x-python",
   "name": "python",
   "nbconvert_exporter": "python",
   "pygments_lexer": "ipython3",
   "version": "3.10.11"
  }
 },
 "nbformat": 4,
 "nbformat_minor": 2
}
